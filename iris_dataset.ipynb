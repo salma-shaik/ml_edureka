{
 "cells": [
  {
   "cell_type": "markdown",
   "id": "8348c30c",
   "metadata": {},
   "source": [
    "#### To check the version of a library"
   ]
  },
  {
   "cell_type": "code",
   "execution_count": 85,
   "id": "a3d71223",
   "metadata": {},
   "outputs": [
    {
     "name": "stdout",
     "output_type": "stream",
     "text": [
      "python: 3.10.4 | packaged by conda-forge | (main, Mar 24 2022, 17:45:10) [Clang 12.0.1 ]\n",
      "scipy: 1.7.3\n",
      "numpy: 1.21.5\n",
      "matplotlib: 3.5.1\n",
      "pandas: 1.4.1\n",
      "sklearn: 1.0.2\n"
     ]
    }
   ],
   "source": [
    "import sys\n",
    "print('python: {}'.format(sys.version))\n",
    "\n",
    "import scipy\n",
    "print('scipy: {}'.format(scipy.__version__))\n",
    "\n",
    "import numpy as np\n",
    "print('numpy: {}'.format(numpy.__version__))\n",
    "\n",
    "import matplotlib.pyplot as plt\n",
    "print('matplotlib: {}'.format(matplotlib.__version__))\n",
    "\n",
    "import pandas as pd\n",
    "print('pandas: {}'.format(pandas.__version__))\n",
    "\n",
    "import sklearn\n",
    "print('sklearn: {}'.format(sklearn.__version__))"
   ]
  },
  {
   "cell_type": "markdown",
   "id": "07bd9d25",
   "metadata": {},
   "source": [
    "#### Import required libraries"
   ]
  },
  {
   "cell_type": "code",
   "execution_count": 86,
   "id": "e813e362",
   "metadata": {},
   "outputs": [],
   "source": [
    "from pandas.plotting import scatter_matrix\n",
    "from sklearn import model_selection\n",
    "from sklearn.metrics import classification_report\n",
    "from sklearn.metrics import confusion_matrix\n",
    "from sklearn.metrics import accuracy_score\n",
    "from sklearn.linear_model import LogisticRegression\n",
    "from sklearn.tree import DecisionTreeClassifier\n",
    "from sklearn.neighbors import KNeighborsClassifier\n",
    "from sklearn.discriminant_analysis import LinearDiscriminantAnalysis\n",
    "from sklearn.naive_bayes import GaussianNB\n",
    "from sklearn.svm import SVC"
   ]
  },
  {
   "cell_type": "markdown",
   "id": "5749bfb2",
   "metadata": {},
   "source": [
    "#### Loading iris dataset from sklearn ####"
   ]
  },
  {
   "cell_type": "code",
   "execution_count": 87,
   "id": "7d61c995",
   "metadata": {},
   "outputs": [],
   "source": [
    "from sklearn import datasets"
   ]
  },
  {
   "cell_type": "code",
   "execution_count": 88,
   "id": "5e56f505",
   "metadata": {},
   "outputs": [
    {
     "name": "stdout",
     "output_type": "stream",
     "text": [
      "['data', 'target', 'frame', 'target_names', 'DESCR', 'feature_names', 'filename', 'data_module']\n"
     ]
    }
   ],
   "source": [
    "iris_dataset = datasets.load_iris()\n",
    "print(list(iris_dataset))"
   ]
  },
  {
   "cell_type": "code",
   "execution_count": 89,
   "id": "1c966ff0",
   "metadata": {},
   "outputs": [],
   "source": [
    "X = iris_dataset.data[:, :2]"
   ]
  },
  {
   "cell_type": "code",
   "execution_count": 90,
   "id": "c372c10c",
   "metadata": {},
   "outputs": [
    {
     "data": {
      "text/plain": [
       "150"
      ]
     },
     "execution_count": 90,
     "metadata": {},
     "output_type": "execute_result"
    }
   ],
   "source": [
    "X_count = len(X)\n",
    "X_count"
   ]
  },
  {
   "cell_type": "code",
   "execution_count": 91,
   "id": "0e5b6ca0",
   "metadata": {},
   "outputs": [
    {
     "data": {
      "text/plain": [
       "300"
      ]
     },
     "execution_count": 91,
     "metadata": {},
     "output_type": "execute_result"
    }
   ],
   "source": [
    "X_count = len(X.flat)\n",
    "X_count"
   ]
  },
  {
   "cell_type": "code",
   "execution_count": 93,
   "id": "b9c0412a",
   "metadata": {},
   "outputs": [
    {
     "name": "stdout",
     "output_type": "stream",
     "text": [
      "<numpy.flatiter object at 0x7fea28bff000>\n",
      "5.1\n",
      "3.5\n",
      "4.9\n",
      "3.0\n",
      "4.7\n",
      "3.2\n",
      "4.6\n",
      "3.1\n",
      "5.0\n",
      "3.6\n",
      "5.4\n",
      "3.9\n",
      "4.6\n",
      "3.4\n",
      "5.0\n",
      "3.4\n",
      "4.4\n",
      "2.9\n",
      "4.9\n",
      "3.1\n",
      "5.4\n",
      "3.7\n",
      "4.8\n",
      "3.4\n",
      "4.8\n",
      "3.0\n",
      "4.3\n",
      "3.0\n",
      "5.8\n",
      "4.0\n",
      "5.7\n",
      "4.4\n",
      "5.4\n",
      "3.9\n",
      "5.1\n",
      "3.5\n",
      "5.7\n",
      "3.8\n",
      "5.1\n",
      "3.8\n",
      "5.4\n",
      "3.4\n",
      "5.1\n",
      "3.7\n",
      "4.6\n",
      "3.6\n",
      "5.1\n",
      "3.3\n",
      "4.8\n",
      "3.4\n",
      "5.0\n",
      "3.0\n",
      "5.0\n",
      "3.4\n",
      "5.2\n",
      "3.5\n",
      "5.2\n",
      "3.4\n",
      "4.7\n",
      "3.2\n",
      "4.8\n",
      "3.1\n",
      "5.4\n",
      "3.4\n",
      "5.2\n",
      "4.1\n",
      "5.5\n",
      "4.2\n",
      "4.9\n",
      "3.1\n",
      "5.0\n",
      "3.2\n",
      "5.5\n",
      "3.5\n",
      "4.9\n",
      "3.6\n",
      "4.4\n",
      "3.0\n",
      "5.1\n",
      "3.4\n",
      "5.0\n",
      "3.5\n",
      "4.5\n",
      "2.3\n",
      "4.4\n",
      "3.2\n",
      "5.0\n",
      "3.5\n",
      "5.1\n",
      "3.8\n",
      "4.8\n",
      "3.0\n",
      "5.1\n",
      "3.8\n",
      "4.6\n",
      "3.2\n",
      "5.3\n",
      "3.7\n",
      "5.0\n",
      "3.3\n",
      "7.0\n",
      "3.2\n",
      "6.4\n",
      "3.2\n",
      "6.9\n",
      "3.1\n",
      "5.5\n",
      "2.3\n",
      "6.5\n",
      "2.8\n",
      "5.7\n",
      "2.8\n",
      "6.3\n",
      "3.3\n",
      "4.9\n",
      "2.4\n",
      "6.6\n",
      "2.9\n",
      "5.2\n",
      "2.7\n",
      "5.0\n",
      "2.0\n",
      "5.9\n",
      "3.0\n",
      "6.0\n",
      "2.2\n",
      "6.1\n",
      "2.9\n",
      "5.6\n",
      "2.9\n",
      "6.7\n",
      "3.1\n",
      "5.6\n",
      "3.0\n",
      "5.8\n",
      "2.7\n",
      "6.2\n",
      "2.2\n",
      "5.6\n",
      "2.5\n",
      "5.9\n",
      "3.2\n",
      "6.1\n",
      "2.8\n",
      "6.3\n",
      "2.5\n",
      "6.1\n",
      "2.8\n",
      "6.4\n",
      "2.9\n",
      "6.6\n",
      "3.0\n",
      "6.8\n",
      "2.8\n",
      "6.7\n",
      "3.0\n",
      "6.0\n",
      "2.9\n",
      "5.7\n",
      "2.6\n",
      "5.5\n",
      "2.4\n",
      "5.5\n",
      "2.4\n",
      "5.8\n",
      "2.7\n",
      "6.0\n",
      "2.7\n",
      "5.4\n",
      "3.0\n",
      "6.0\n",
      "3.4\n",
      "6.7\n",
      "3.1\n",
      "6.3\n",
      "2.3\n",
      "5.6\n",
      "3.0\n",
      "5.5\n",
      "2.5\n",
      "5.5\n",
      "2.6\n",
      "6.1\n",
      "3.0\n",
      "5.8\n",
      "2.6\n",
      "5.0\n",
      "2.3\n",
      "5.6\n",
      "2.7\n",
      "5.7\n",
      "3.0\n",
      "5.7\n",
      "2.9\n",
      "6.2\n",
      "2.9\n",
      "5.1\n",
      "2.5\n",
      "5.7\n",
      "2.8\n",
      "6.3\n",
      "3.3\n",
      "5.8\n",
      "2.7\n",
      "7.1\n",
      "3.0\n",
      "6.3\n",
      "2.9\n",
      "6.5\n",
      "3.0\n",
      "7.6\n",
      "3.0\n",
      "4.9\n",
      "2.5\n",
      "7.3\n",
      "2.9\n",
      "6.7\n",
      "2.5\n",
      "7.2\n",
      "3.6\n",
      "6.5\n",
      "3.2\n",
      "6.4\n",
      "2.7\n",
      "6.8\n",
      "3.0\n",
      "5.7\n",
      "2.5\n",
      "5.8\n",
      "2.8\n",
      "6.4\n",
      "3.2\n",
      "6.5\n",
      "3.0\n",
      "7.7\n",
      "3.8\n",
      "7.7\n",
      "2.6\n",
      "6.0\n",
      "2.2\n",
      "6.9\n",
      "3.2\n",
      "5.6\n",
      "2.8\n",
      "7.7\n",
      "2.8\n",
      "6.3\n",
      "2.7\n",
      "6.7\n",
      "3.3\n",
      "7.2\n",
      "3.2\n",
      "6.2\n",
      "2.8\n",
      "6.1\n",
      "3.0\n",
      "6.4\n",
      "2.8\n",
      "7.2\n",
      "3.0\n",
      "7.4\n",
      "2.8\n",
      "7.9\n",
      "3.8\n",
      "6.4\n",
      "2.8\n",
      "6.3\n",
      "2.8\n",
      "6.1\n",
      "2.6\n",
      "7.7\n",
      "3.0\n",
      "6.3\n",
      "3.4\n",
      "6.4\n",
      "3.1\n",
      "6.0\n",
      "3.0\n",
      "6.9\n",
      "3.1\n",
      "6.7\n",
      "3.1\n",
      "6.9\n",
      "3.1\n",
      "5.8\n",
      "2.7\n",
      "6.8\n",
      "3.2\n",
      "6.7\n",
      "3.3\n",
      "6.7\n",
      "3.0\n",
      "6.3\n",
      "2.5\n",
      "6.5\n",
      "3.0\n",
      "6.2\n",
      "3.4\n",
      "5.9\n",
      "3.0\n"
     ]
    }
   ],
   "source": [
    "print(X.flat)\n",
    "for x in X.flat:\n",
    "    print(x)"
   ]
  },
  {
   "cell_type": "code",
   "execution_count": 94,
   "id": "d7c3d507",
   "metadata": {},
   "outputs": [
    {
     "name": "stdout",
     "output_type": "stream",
     "text": [
      "4.3\n"
     ]
    }
   ],
   "source": [
    "x_min = X[:, 0].min()\n",
    "print(x_min)"
   ]
  },
  {
   "cell_type": "code",
   "execution_count": 95,
   "id": "cabfde6c",
   "metadata": {},
   "outputs": [
    {
     "name": "stdout",
     "output_type": "stream",
     "text": [
      "3.8\n"
     ]
    }
   ],
   "source": [
    "print(x_min - .5)"
   ]
  },
  {
   "cell_type": "code",
   "execution_count": 96,
   "id": "3214cc25",
   "metadata": {},
   "outputs": [
    {
     "name": "stdout",
     "output_type": "stream",
     "text": [
      "7.9\n",
      "8.4\n"
     ]
    }
   ],
   "source": [
    "x_max = X[:, 0].max()\n",
    "print(x_max)\n",
    "print(x_max + .5)"
   ]
  },
  {
   "cell_type": "code",
   "execution_count": 97,
   "id": "67c22620",
   "metadata": {},
   "outputs": [
    {
     "name": "stdout",
     "output_type": "stream",
     "text": [
      "5.843333333333334\n"
     ]
    }
   ],
   "source": [
    "x_mean = X[:, 0].mean()\n",
    "print(x_mean)"
   ]
  },
  {
   "cell_type": "markdown",
   "id": "bf5ac384",
   "metadata": {},
   "source": [
    "##### Converting sklearn iris dataset to pandas dataframe"
   ]
  },
  {
   "cell_type": "code",
   "execution_count": 98,
   "id": "c6ce70bd",
   "metadata": {},
   "outputs": [
    {
     "data": {
      "text/plain": [
       "(150, 6)"
      ]
     },
     "execution_count": 98,
     "metadata": {},
     "output_type": "execute_result"
    }
   ],
   "source": [
    "iris_df = pd.DataFrame(data=iris_dataset.data, columns=iris_dataset.feature_names)\n",
    "iris_df['target'] = iris_dataset.target\n",
    "iris_df['target_class'] = iris_df['target'].replace([0, 1, 2], \n",
    "                          ['Iris-' + species for species in iris_dataset['target_names'].tolist()])\n",
    "iris_df.shape"
   ]
  },
  {
   "cell_type": "code",
   "execution_count": 99,
   "id": "658ab449",
   "metadata": {},
   "outputs": [
    {
     "name": "stdout",
     "output_type": "stream",
     "text": [
      "['sepal length (cm)', 'sepal width (cm)', 'petal length (cm)', 'petal width (cm)', 'target', 'target_class']\n"
     ]
    }
   ],
   "source": [
    "print(list(iris_df))"
   ]
  },
  {
   "cell_type": "code",
   "execution_count": 100,
   "id": "d28914d9",
   "metadata": {},
   "outputs": [
    {
     "name": "stdout",
     "output_type": "stream",
     "text": [
      "   sepal length (cm)  sepal width (cm)  petal length (cm)  petal width (cm)  \\\n",
      "0                5.1               3.5                1.4               0.2   \n",
      "1                4.9               3.0                1.4               0.2   \n",
      "2                4.7               3.2                1.3               0.2   \n",
      "3                4.6               3.1                1.5               0.2   \n",
      "4                5.0               3.6                1.4               0.2   \n",
      "\n",
      "  target_class  \n",
      "0  Iris-setosa  \n",
      "1  Iris-setosa  \n",
      "2  Iris-setosa  \n",
      "3  Iris-setosa  \n",
      "4  Iris-setosa  \n"
     ]
    }
   ],
   "source": [
    "iris_df.drop('target', axis=1, inplace=True)\n",
    "print(iris_df.head())"
   ]
  },
  {
   "cell_type": "markdown",
   "id": "19a15d81",
   "metadata": {},
   "source": [
    "#### Otherwise use seaborn data sets which are actual pandas data frames:\n",
    "\n",
    "import seaborn\n",
    "iris = seaborn.load_dataset(\"iris\")\n",
    "type(iris)\n",
    "<class 'pandas.core.frame.DataFrame'> ####"
   ]
  },
  {
   "cell_type": "code",
   "execution_count": 101,
   "id": "d5576f90",
   "metadata": {},
   "outputs": [
    {
     "name": "stdout",
     "output_type": "stream",
     "text": [
      "       sepal length (cm)  sepal width (cm)  petal length (cm)  \\\n",
      "count             150.00            150.00             150.00   \n",
      "mean                5.84              3.06               3.76   \n",
      "std                 0.83              0.44               1.77   \n",
      "min                 4.30              2.00               1.00   \n",
      "25%                 5.10              2.80               1.60   \n",
      "50%                 5.80              3.00               4.35   \n",
      "75%                 6.40              3.30               5.10   \n",
      "max                 7.90              4.40               6.90   \n",
      "\n",
      "       petal width (cm)  \n",
      "count            150.00  \n",
      "mean               1.20  \n",
      "std                0.76  \n",
      "min                0.10  \n",
      "25%                0.30  \n",
      "50%                1.30  \n",
      "75%                1.80  \n",
      "max                2.50  \n"
     ]
    }
   ],
   "source": [
    "print(iris_df.describe().round(2))"
   ]
  },
  {
   "cell_type": "code",
   "execution_count": 102,
   "id": "7041f98c",
   "metadata": {},
   "outputs": [
    {
     "name": "stdout",
     "output_type": "stream",
     "text": [
      "target_class\n",
      "Iris-setosa        50\n",
      "Iris-versicolor    50\n",
      "Iris-virginica     50\n",
      "dtype: int64\n"
     ]
    }
   ],
   "source": [
    "print(iris_df.groupby('target_class').size())"
   ]
  },
  {
   "cell_type": "markdown",
   "id": "060c3cdc",
   "metadata": {},
   "source": [
    "#### Univariate plot - to better understand about each attribute"
   ]
  },
  {
   "cell_type": "code",
   "execution_count": 103,
   "id": "417067b4",
   "metadata": {},
   "outputs": [
    {
     "data": {
      "image/png": "[encoded data removed]",
      "text/plain": [
       "<Figure size 432x288 with 4 Axes>"
      ]
     },
     "metadata": {
      "needs_background": "light"
     },
     "output_type": "display_data"
    }
   ],
   "source": [
    "## Given that input variables are numeric, can create box and whisker plot\n",
    "iris_df.plot(kind='box', subplots=True, layout=(2,2), sharex=False, sharey=False)\n",
    "plt.show()"
   ]
  },
  {
   "cell_type": "code",
   "execution_count": 104,
   "id": "68d524cc",
   "metadata": {},
   "outputs": [
    {
     "data": {
      "image/png": "[encoded data removed]",
      "text/plain": [
       "<Figure size 432x288 with 1 Axes>"
      ]
     },
     "metadata": {
      "needs_background": "light"
     },
     "output_type": "display_data"
    }
   ],
   "source": [
    "## Given that input variables are numeric, can create box and whisker plot\n",
    "iris_df.plot(kind='box', layout=(2,2), sharex=False, sharey=False)\n",
    "plt.show()"
   ]
  },
  {
   "cell_type": "code",
   "execution_count": 105,
   "id": "65256d9b",
   "metadata": {},
   "outputs": [
    {
     "data": {
      "image/png": "[encoded data removed]",
      "text/plain": [
       "<Figure size 432x288 with 16 Axes>"
      ]
     },
     "metadata": {
      "needs_background": "light"
     },
     "output_type": "display_data"
    }
   ],
   "source": [
    "## Given that input variables are numeric, can create box and whisker plot\n",
    "iris_df.plot(kind='box', subplots=True, layout=(4,4), sharex=False, sharey=False)\n",
    "plt.show()"
   ]
  },
  {
   "cell_type": "code",
   "execution_count": 106,
   "id": "162a94c8",
   "metadata": {},
   "outputs": [
    {
     "data": {
      "image/png": "[encoded data removed]",
      "text/plain": [
       "<Figure size 432x288 with 4 Axes>"
      ]
     },
     "metadata": {
      "needs_background": "light"
     },
     "output_type": "display_data"
    }
   ],
   "source": [
    "## Given that input variables are numeric, can create box and whisker plot\n",
    "iris_df.plot(kind='box', subplots=True, layout=(2,2), sharex=True, sharey=True)\n",
    "plt.show()"
   ]
  },
  {
   "cell_type": "code",
   "execution_count": 107,
   "id": "2c8ac5bf",
   "metadata": {},
   "outputs": [
    {
     "data": {
      "image/png": "[encoded data removed]",
      "text/plain": [
       "<Figure size 432x288 with 4 Axes>"
      ]
     },
     "metadata": {
      "needs_background": "light"
     },
     "output_type": "display_data"
    }
   ],
   "source": [
    "iris_df.hist()\n",
    "plt.show()\n",
    "## 2"
   ]
  },
  {
   "cell_type": "markdown",
   "id": "56164d0c",
   "metadata": {},
   "source": [
    "#### Multivariate plot - to better understand about relationship between different attributes.\n",
    "#### Can be helpful to spot structured relationships between input variables "
   ]
  },
  {
   "cell_type": "code",
   "execution_count": 108,
   "id": "ef4c633b",
   "metadata": {},
   "outputs": [
    {
     "data": {
      "image/png": "[encoded data removed]",
      "text/plain": [
       "<Figure size 432x288 with 16 Axes>"
      ]
     },
     "metadata": {
      "needs_background": "light"
     },
     "output_type": "display_data"
    }
   ],
   "source": [
    "scatter_matrix(iris_df)\n",
    "plt.show()\n",
    "\n",
    "# diagonal grouping of some pairs - some of them suggest high correlation and a predictable relationship "
   ]
  },
  {
   "cell_type": "markdown",
   "id": "a96f098a",
   "metadata": {},
   "source": [
    "#### Create some algorithm (model the data) and estimate their accuracy based on some unseen data"
   ]
  },
  {
   "cell_type": "code",
   "execution_count": 109,
   "id": "f0a6f542",
   "metadata": {},
   "outputs": [],
   "source": [
    "## Create a training and validation dataset\n",
    "array = iris_df.values\n",
    "X = array[:, 0:4]\n",
    "Y = array[:, 4]\n",
    "\n",
    "validation_size = 0.20\n",
    "\n",
    "# seed helps to maintain the same randomness in training and testing datasets\n",
    "seed = 6\n",
    "\n",
    "X_train, X_test, Y_train, Y_test = model_selection.train_test_split(X, Y, test_size = validation_size, random_state=seed)\n",
    "\n",
    "## Create a test harness: 10 fold cv to estimate accuracy\n",
    "seed = 6\n",
    "# using the metric of accuracy to evaluate the model.\n",
    "# Accuracy = (number of correct predictions/total predictions) * 100\n",
    "scoring = 'accuracy'"
   ]
  },
  {
   "cell_type": "code",
   "execution_count": 110,
   "id": "77a873c8",
   "metadata": {},
   "outputs": [
    {
     "name": "stdout",
     "output_type": "stream",
     "text": [
      "LR: 0.958333 (0.041667)\n",
      "LDA: 0.975000 (0.038188)\n",
      "KNN: 0.958333 (0.041667)\n",
      "DTC: 0.958333 (0.041667)\n",
      "NB: 0.966667 (0.040825)\n",
      "SVM: 0.941667 (0.053359)\n"
     ]
    }
   ],
   "source": [
    "## Build Algorithms\n",
    "# Use the same seed for every algorithm --> ensures that algo efficiency\n",
    "# is compared and evaluated against the same dataset\n",
    "\n",
    "models = []\n",
    "\n",
    "'''\n",
    "linear_model/_logistic.py:814: ConvergenceWarning: lbfgs failed to converge (status=1):\n",
    "STOP: TOTAL NO. of ITERATIONS REACHED LIMIT\n",
    "\n",
    "https://stackoverflow.com/questions/62658215/convergencewarning-lbfgs-failed-to-converge-status-1-stop-total-no-of-iter\n",
    "\n",
    "lbfgs stand for: \"Limited-memory Broyden–Fletcher–Goldfarb–Shanno Algorithm\". It is one of the solvers' algorithms \n",
    "provided by Scikit-Learn Library.\n",
    "\n",
    "The term limited-memory simply means it stores only a few vectors that represent the gradients approximation \n",
    "implicitly. It has better convergence on relatively small datasets.\n",
    "\n",
    "So had to change max itertions of log reg to 400 from 100\n",
    "\n",
    "But what is algorithm convergence?\n",
    "\n",
    "In simple words. If the error of solving is ranging within very small range (i.e., it is almost not changing), \n",
    "then that means the algorithm reached the solution (not necessary to be the best solution as it might be stuck at \n",
    "what so-called \"local Optima\").\n",
    "\n",
    "On the other hand, if the error is varying noticeably (even if the error is relatively small [like in your case the \n",
    "score was good], but rather the differences between the errors per iteration is greater than some tolerance) then \n",
    "we say the algorithm did not converge.\n",
    "\n",
    "Now, you need to know that Scikit-Learn API sometimes provides the user the option to specify the maximum number of \n",
    "iterations the algorithm should take while it's searching for the solution in an iterative manner:\n",
    "\n",
    "'''\n",
    "models.append(('LR', LogisticRegression(max_iter=400)))\n",
    "models.append(('LDA', LinearDiscriminantAnalysis()))\n",
    "models.append(('KNN', KNeighborsClassifier()))\n",
    "models.append(('DTC', DecisionTreeClassifier()))\n",
    "models.append(('NB', GaussianNB()))\n",
    "models.append(('SVM', SVC()))\n",
    "\n",
    "# Evaluate each model\n",
    "results = []\n",
    "names = []\n",
    "for name, model in models:\n",
    "    kfold = model_selection.KFold(n_splits=10, random_state=seed, shuffle=True)\n",
    "    cv_results = model_selection.cross_val_score(model, X_train, Y_train, cv=kfold, scoring=scoring)\n",
    "    results.append(cv_results)\n",
    "    names.append(name)\n",
    "    msg = \"%s: %f (%f)\" % (name, cv_results.mean(), cv_results.std())\n",
    "    print(msg)"
   ]
  },
  {
   "cell_type": "code",
   "execution_count": 124,
   "id": "37bb1b31",
   "metadata": {},
   "outputs": [],
   "source": [
    "### LDA performed better among all\n",
    "### test the model with test data\n",
    "lda_model = LinearDiscriminantAnalysis()\n",
    "\n",
    "lda_model.fit(X_train, Y_train)\n",
    "Y_pred = lda_model.predict(X_test)"
   ]
  },
  {
   "cell_type": "code",
   "execution_count": 130,
   "id": "a40172e3",
   "metadata": {},
   "outputs": [
    {
     "name": "stdout",
     "output_type": "stream",
     "text": [
      "[[ 9  0  0]\n",
      " [ 0 10  0]\n",
      " [ 0  0 11]]\n",
      "Accuracy 1.0\n",
      "                 precision    recall  f1-score   support\n",
      "\n",
      "    Iris-setosa       1.00      1.00      1.00         9\n",
      "Iris-versicolor       1.00      1.00      1.00        10\n",
      " Iris-virginica       1.00      1.00      1.00        11\n",
      "\n",
      "       accuracy                           1.00        30\n",
      "      macro avg       1.00      1.00      1.00        30\n",
      "   weighted avg       1.00      1.00      1.00        30\n",
      "\n"
     ]
    }
   ],
   "source": [
    "## get some metrics\n",
    "cm = confusion_matrix(Y_test, Y_pred)\n",
    "print(cm)\n",
    "print('Accuracy ' + str(accuracy_score(Y_test, Y_pred)))\n",
    "print(classification_report(Y_test, Y_pred))"
   ]
  },
  {
   "cell_type": "code",
   "execution_count": null,
   "id": "18f8cd39",
   "metadata": {},
   "outputs": [],
   "source": []
  },
  {
   "cell_type": "code",
   "execution_count": null,
   "id": "03fa5540",
   "metadata": {},
   "outputs": [],
   "source": []
  },
  {
   "cell_type": "code",
   "execution_count": null,
   "id": "6312f77f",
   "metadata": {},
   "outputs": [],
   "source": []
  },
  {
   "cell_type": "code",
   "execution_count": null,
   "id": "a3a950ea",
   "metadata": {},
   "outputs": [],
   "source": []
  }
 ],
 "metadata": {
  "kernelspec": {
   "display_name": "ml_tutorials",
   "language": "python",
   "name": "ml_tutorials"
  },
  "language_info": {
   "codemirror_mode": {
    "name": "ipython",
    "version": 3
   },
   "file_extension": ".py",
   "mimetype": "text/x-python",
   "name": "python",
   "nbconvert_exporter": "python",
   "pygments_lexer": "ipython3",
   "version": "3.10.4"
  }
 },
 "nbformat": 4,
 "nbformat_minor": 5
}
