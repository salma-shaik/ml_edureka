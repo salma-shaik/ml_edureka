{
 "cells": [
  {
   "cell_type": "code",
   "execution_count": 93,
   "id": "db05be48",
   "metadata": {},
   "outputs": [],
   "source": [
    "import csv\n",
    "import random"
   ]
  },
  {
   "cell_type": "code",
   "execution_count": 94,
   "id": "0c7be650",
   "metadata": {},
   "outputs": [],
   "source": [
    "def loadDataset(filename, split, trainingSet, testSet):\n",
    "    #with open(r'/Users/salma/Studies/MachineLearning/ml_edureka/datasets/iris_data.csv') as csvfile:\n",
    "    \n",
    "    with open(filename, 'r') as csvfile:\n",
    "        lines = csv.reader(csvfile)\n",
    "        next(lines)\n",
    "\n",
    "        dataset = list(lines)\n",
    "        for x in range(len(dataset) - 1):\n",
    "            for y in range(4):\n",
    "                \n",
    "                # Convert the flower measures that were loaded as strings into numbers\n",
    "                dataset[x][y] = float(dataset[x][y])\n",
    "            if random.random() < split:\n",
    "                trainingSet.append(dataset[x])\n",
    "            else:\n",
    "                testSet.append(dataset[x])  "
   ]
  },
  {
   "cell_type": "code",
   "execution_count": 95,
   "id": "c4e01e04",
   "metadata": {},
   "outputs": [
    {
     "name": "stdout",
     "output_type": "stream",
     "text": [
      "Train: 101\n",
      "Test: 48\n"
     ]
    }
   ],
   "source": [
    "### Test ###\n",
    "trainingSet = []\n",
    "testSet = []\n",
    "loadDataset('/Users/salma/Studies/MachineLearning/ml_edureka/datasets/iris_data.csv',\n",
    "           0.66, trainingSet, testSet)\n",
    "\n",
    "print('Train: ' +repr(len(trainingSet)))\n",
    "print('Test: ' +repr(len(testSet)))"
   ]
  },
  {
   "cell_type": "markdown",
   "id": "f9c25ba4",
   "metadata": {},
   "source": [
    "#### Calculate similarity between any 2 instances so that we can locate k most similar instances in the training dataset and in turn make our prediction"
   ]
  },
  {
   "cell_type": "markdown",
   "id": "47a883a0",
   "metadata": {},
   "source": [
    "#### Given that all 4 meausres are numeric and similar units --> can use Euclidean distance. Additionally we want to include which fields to include in the distance calculation"
   ]
  },
  {
   "cell_type": "code",
   "execution_count": 96,
   "id": "250b478a",
   "metadata": {},
   "outputs": [],
   "source": [
    "import math\n",
    "def euclDist(inst1, inst2, length): # how many attributes to include\n",
    "    dist = 0\n",
    "    for x in range(length):\n",
    "        dist += pow((inst1[x] - inst2[x]), 2)\n",
    "    return math.sqrt(dist)"
   ]
  },
  {
   "cell_type": "code",
   "execution_count": 97,
   "id": "7eb05c6f",
   "metadata": {},
   "outputs": [
    {
     "name": "stdout",
     "output_type": "stream",
     "text": [
      "Distance: 3.4641016151377544\n"
     ]
    }
   ],
   "source": [
    "### Test ###\n",
    "data1 = [2, 2, 2, 'a']\n",
    "data2 = [4, 4, 4, 'b']\n",
    "\n",
    "dist = euclDist(data1, data2, 3) # sqrt(3*(4-2)^2)\n",
    "print ('Distance: ' +repr(dist))"
   ]
  },
  {
   "cell_type": "code",
   "execution_count": 98,
   "id": "e3191ccd",
   "metadata": {},
   "outputs": [],
   "source": [
    "### Look for KNN. Using the similarity measure find the k most\n",
    "### similar instances for a given unseen instance.\n",
    "### Calculating the distances for all the instances and selecting\n",
    "### a subset with the smallest distance value"
   ]
  },
  {
   "cell_type": "code",
   "execution_count": 99,
   "id": "207f255c",
   "metadata": {},
   "outputs": [],
   "source": [
    "### function to return the k most similar neighbors for a given test instance\n",
    "import operator\n",
    "def getNeighbors(trainingSet, testInstance, k):\n",
    "    distances = []\n",
    "    length = len(testInstance) - 1\n",
    "    for x in range(len(trainingSet)):\n",
    "        dist = euclDist(testInstance, trainingSet[x], length)\n",
    "        distances.append((trainingSet[x], dist))\n",
    "    distances.sort(key=operator.itemgetter(1))\n",
    "    neighbors=[]\n",
    "    \n",
    "    for x in range(k):\n",
    "        neighbors.append(distances[x][0])\n",
    "    return neighbors\n",
    "        "
   ]
  },
  {
   "cell_type": "code",
   "execution_count": 100,
   "id": "d35fdfd5",
   "metadata": {},
   "outputs": [
    {
     "name": "stdout",
     "output_type": "stream",
     "text": [
      "[[4, 4, 4, 'b']]\n"
     ]
    }
   ],
   "source": [
    "### Test ###\n",
    "trainSet = [[2, 2, 2, 'a'], [4, 4, 4, 'b']]\n",
    "testInstance = [5, 5, 5]\n",
    "k = 1\n",
    "neighbors = getNeighbors(trainSet, testInstance, 1)\n",
    "print(neighbors)"
   ]
  },
  {
   "cell_type": "code",
   "execution_count": 101,
   "id": "2c3fa633",
   "metadata": {},
   "outputs": [],
   "source": [
    "### After locating most similar neighbor to a test instance,\n",
    "### next instance is to predict a response based on their neighbors\n",
    "### --> by allowing each neighbor to vote for the class attribute \n",
    "### and take majority vote as the prediction"
   ]
  },
  {
   "cell_type": "code",
   "execution_count": 102,
   "id": "da972311",
   "metadata": {},
   "outputs": [],
   "source": [
    "def getResponse(neighbors):\n",
    "    classVotes = {}\n",
    "    for x in range(len(neighbors)):\n",
    "        response = neighbors[x][-1]\n",
    "        if response in classVotes:\n",
    "            classVotes[response] += 1\n",
    "        else:\n",
    "            classVotes[response] = 1\n",
    "    ## iteritems renamed to items in py 3        \n",
    "    sortedVotes = sorted(classVotes.items(), key=operator.itemgetter(1),\n",
    "                        reverse=True)\n",
    "    return sortedVotes[0][0]"
   ]
  },
  {
   "cell_type": "code",
   "execution_count": 103,
   "id": "67d308e3",
   "metadata": {},
   "outputs": [
    {
     "name": "stdout",
     "output_type": "stream",
     "text": [
      "a\n"
     ]
    }
   ],
   "source": [
    "### Test ###\n",
    "neighbors = [[1,1,1,'a'], [2,2,2,'a'], [3,3,3,'b']]\n",
    "response = getResponse(neighbors)\n",
    "print(response)"
   ]
  },
  {
   "cell_type": "code",
   "execution_count": 129,
   "id": "b088cd89",
   "metadata": {},
   "outputs": [],
   "source": [
    "def getAccuracy(testSet, predictions):\n",
    "    correct = 0\n",
    "    for x in range(len(testSet)):\n",
    "        # initially if testSet[x][-1] == predictions[x]\n",
    "        # but is wasn't validating string equality\n",
    "        if testSet[x][-1] == predictions[x]:\n",
    "            correct += 1\n",
    "    return (correct/float(len(testSet))) * 100"
   ]
  },
  {
   "cell_type": "code",
   "execution_count": 130,
   "id": "9a87f533",
   "metadata": {},
   "outputs": [
    {
     "name": "stdout",
     "output_type": "stream",
     "text": [
      "66.66666666666666\n"
     ]
    }
   ],
   "source": [
    "### Test ###\n",
    "testSet = [[1,1,1,'a'], [2,2,2,'a'], [3,3,3,'b']]\n",
    "predictions = ['a', 'a', 'a']\n",
    "accuracy = getAccuracy(testSet, predictions)\n",
    "print(accuracy)"
   ]
  },
  {
   "cell_type": "code",
   "execution_count": 131,
   "id": "fc6ed6cc",
   "metadata": {},
   "outputs": [
    {
     "name": "stdout",
     "output_type": "stream",
     "text": [
      "Train set: 119\n",
      "Test set: 30\n",
      "Accuracy: 96.66666666666667%\n"
     ]
    }
   ],
   "source": [
    "def main():\n",
    "    # prepare data\n",
    "    trainingSet = []\n",
    "    testSet = []\n",
    "    split = 0.67\n",
    "    loadDataset('/Users/salma/Studies/MachineLearning/ml_edureka/datasets/iris_data.csv',\n",
    "               split, trainingSet, testSet)\n",
    "    print('Train set: ' +repr(len(trainingSet)))\n",
    "    print('Test set: ' +repr(len(testSet)))\n",
    "    # generate predictions\n",
    "    predictions = []\n",
    "    k = 3\n",
    "    for x in range(len(testSet)):\n",
    "        neighbors = getNeighbors(trainingSet, testSet[x], k)\n",
    "        result = getResponse(neighbors)\n",
    "        predictions.append(result)\n",
    "        #print('> predicted=' + repr(result) + ', actual=' +repr(testSet[x][-1]))\n",
    "    accuracy = getAccuracy(testSet, predictions)\n",
    "    print('Accuracy: ' +repr(accuracy) + '%')\n",
    "    \n",
    "main()"
   ]
  },
  {
   "cell_type": "code",
   "execution_count": null,
   "id": "2d7e34a0",
   "metadata": {},
   "outputs": [],
   "source": []
  }
 ],
 "metadata": {
  "kernelspec": {
   "display_name": "ml_tutorials",
   "language": "python",
   "name": "ml_tutorials"
  },
  "language_info": {
   "codemirror_mode": {
    "name": "ipython",
    "version": 3
   },
   "file_extension": ".py",
   "mimetype": "text/x-python",
   "name": "python",
   "nbconvert_exporter": "python",
   "pygments_lexer": "ipython3",
   "version": "3.10.4"
  }
 },
 "nbformat": 4,
 "nbformat_minor": 5
}
